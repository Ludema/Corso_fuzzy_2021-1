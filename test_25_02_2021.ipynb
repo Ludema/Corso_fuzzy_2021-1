{
  "nbformat": 4,
  "nbformat_minor": 0,
  "metadata": {
    "colab": {
      "name": "test_25_02_2021.ipynb",
      "provenance": [],
      "authorship_tag": "ABX9TyOGBjlc2SONHebXiGNoeiGH"
    },
    "kernelspec": {
      "name": "python3",
      "display_name": "Python 3"
    }
  },
  "cells": [
    {
      "cell_type": "markdown",
      "metadata": {
        "id": "shrm8cMJ1ALH"
      },
      "source": [
        "#  Test\n",
        "\n",
        "- creare un jupyter notebook\n",
        "- descrivi brevemente il ruolo della logica ed i diversi tipi di logica studiati\n",
        "- implementare i connettivi logici come funzioni in python\n",
        "- testare le funzioni\n",
        "- implementare una funzione che stampa la tabella di verità di una formula interpretata nella logica classica e nella logica di Lukasiewicz a 3 valori\n",
        "- stampare le funzioni di verità delle seguenti formule :\n",
        "\n",
        " A ***or*** (***not*** A)\n",
        "\n",
        " ***not*** A ***->*** B\n",
        "\n",
        "\n",
        "- pubblicare il notebook su una repository di GitHub\n",
        "- inviare il link della repository ed il notebook in formato .pdf alle email: gvitale@unisa.it e ifts@scuolalatecnica.it\n"
      ]
    },
    {
      "cell_type": "code",
      "metadata": {
        "id": "7t2baANz72K3"
      },
      "source": [
        ""
      ],
      "execution_count": null,
      "outputs": []
    }
  ]
}